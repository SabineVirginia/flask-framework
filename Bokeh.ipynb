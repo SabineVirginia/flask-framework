{
 "cells": [
  {
   "cell_type": "code",
   "execution_count": 3,
   "metadata": {},
   "outputs": [],
   "source": [
    "# standard bokeh imports\r\n",
    "from bokeh.io import output_notebook, show, reset_output\r\n",
    "\r\n",
    "# other bokeh imports\r\n",
    "import bokeh\r\n",
    "from bokeh.plotting import figure, output_file\r\n",
    "# more imports in cells below as needed\r\n",
    "\r\n",
    "# other imports\r\n",
    "import numpy as np"
   ]
  },
  {
   "cell_type": "code",
   "execution_count": 4,
   "metadata": {},
   "outputs": [],
   "source": [
    "from bokeh.models import HoverTool\r\n",
    "\r\n",
    "xline = np.arange(10)\r\n",
    "yline = np.random.rand(10)\r\n",
    "\r\n",
    "line_plot = figure(plot_width=500, plot_height=325, title='Line Plot',x_axis_label='x',y_axis_label='y')\r\n",
    "line_plot.line(xline,yline,line_width=2)\r\n",
    "\r\n",
    "line_plot.add_tools(HoverTool())\r\n",
    "\r\n",
    "# alternative way to set axis labels\r\n",
    "# line_plot.xaxis.axis_label = 'x-axis'\r\n",
    "# line_plot.yaxis.axis_label = 'y-axis'\r\n",
    "\r\n",
    "output_file('Bokeh_plot.html')\r\n",
    "\r\n",
    "show(line_plot)"
   ]
  },
  {
   "cell_type": "code",
   "execution_count": null,
   "metadata": {},
   "outputs": [],
   "source": []
  }
 ],
 "metadata": {
  "interpreter": {
   "hash": "1ca987564452a827941521298c2e239b1055f42822545c7119e9d63b35a498f8"
  },
  "kernelspec": {
   "display_name": "Python 3.8.5 64-bit ('base': conda)",
   "name": "python3"
  },
  "language_info": {
   "name": "python",
   "version": ""
  },
  "orig_nbformat": 4
 },
 "nbformat": 4,
 "nbformat_minor": 2
}